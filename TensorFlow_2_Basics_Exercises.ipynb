{
  "cells": [
    {
      "cell_type": "markdown",
      "metadata": {
        "id": "view-in-github",
        "colab_type": "text"
      },
      "source": [
        "<a href=\"https://colab.research.google.com/github/Anurag-Singla/colab/blob/main/TensorFlow_2_Basics_Exercises.ipynb\" target=\"_parent\"><img src=\"https://colab.research.google.com/assets/colab-badge.svg\" alt=\"Open In Colab\"/></a>"
      ]
    },
    {
      "cell_type": "markdown",
      "id": "8601d189",
      "metadata": {
        "id": "8601d189"
      },
      "source": [
        "# TensorFlow 2 Exercises for Basic Tensor Manipulation\n",
        "\n",
        "This notebook provides a set of exercises designed to familiarize you with the basics of tensor manipulation in TensorFlow 2,\n",
        "which is essential for handling Large Language Models (LLMs).\n",
        "\n",
        "## Contents\n",
        "1. Tensor Basics\n",
        "2. Tensor Operations\n",
        "3. Manipulating Tensor Shapes\n",
        "4. Indexing and Slicing\n",
        "\n",
        "Each section will include a brief explanation followed by practical exercises."
      ]
    },
    {
      "cell_type": "markdown",
      "id": "216324e4",
      "metadata": {
        "id": "216324e4"
      },
      "source": [
        "\n",
        "## 1. Tensor Basics\n",
        "\n",
        "**Objective**: Understand how to create tensors, and learn about their types and shapes.\n",
        "\n",
        "**Exercises**:\n",
        "1. Create a scalar tensor (0-D tensor) with a specific value.\n",
        "2. Create a 1-D tensor (vector) with 5 elements.\n",
        "3. Create a 2-D tensor (matrix) of shape (3, 3).\n",
        "4. Find the data type (`dtype`) of the tensors created above.\n",
        "5. Convert a numpy array to a TensorFlow tensor.\n"
      ]
    },
    {
      "cell_type": "markdown",
      "id": "02281206",
      "metadata": {
        "id": "02281206"
      },
      "source": [
        "\n",
        "## 2. Tensor Operations\n",
        "\n",
        "**Objective**: Perform basic arithmetic operations and learn some advanced operations.\n",
        "\n",
        "**Exercises**:\n",
        "1. Add, subtract, multiply, and divide two tensors.\n",
        "2. Compute the mean and standard deviation of a tensor.\n",
        "3. Apply a non-linear activation function (like ReLU) to a tensor.\n",
        "4. Perform matrix multiplication between two 2-D tensors.\n"
      ]
    },
    {
      "cell_type": "markdown",
      "id": "d4bd1425",
      "metadata": {
        "id": "d4bd1425"
      },
      "source": [
        "\n",
        "## 3. Manipulating Tensor Shapes\n",
        "\n",
        "**Objective**: Learn how to reshape and transpose tensors.\n",
        "\n",
        "**Exercises**:\n",
        "1. Create a tensor of shape (4, 4), then reshape it to (2, 8).\n",
        "2. Transpose a 2-D tensor.\n",
        "3. Flatten a 3-D tensor to a 1-D tensor.\n"
      ]
    },
    {
      "cell_type": "markdown",
      "id": "7c2af7ed",
      "metadata": {
        "id": "7c2af7ed"
      },
      "source": [
        "\n",
        "## 4. Indexing and Slicing\n",
        "\n",
        "**Objective**: Access specific elements or slices of a tensor.\n",
        "\n",
        "**Exercises**:\n",
        "1. Extract a specific element from a tensor.\n",
        "2. Slice a portion of a tensor.\n",
        "3. Use boolean tensor indexing to filter elements.\n"
      ]
    },
    {
      "cell_type": "code",
      "source": [
        "import tensorflow as tf\n",
        "import numpy as np\n",
        "\n",
        "scalar = tf.constant(2)\n",
        "scalar"
      ],
      "metadata": {
        "id": "FgxSOrQneCW6",
        "colab": {
          "base_uri": "https://localhost:8080/"
        },
        "outputId": "977e038d-1107-4d65-dcb0-9bcb0e8ad3d0"
      },
      "id": "FgxSOrQneCW6",
      "execution_count": 1,
      "outputs": [
        {
          "output_type": "execute_result",
          "data": {
            "text/plain": [
              "<tf.Tensor: shape=(), dtype=int32, numpy=2>"
            ]
          },
          "metadata": {},
          "execution_count": 1
        }
      ]
    },
    {
      "cell_type": "code",
      "source": [
        "# prompt: Create a scalar tensor (0-D tensor) with a specific value.\n",
        "# Create a 1-D tensor (vector) with 5 elements.\n",
        "# Create a 2-D tensor (matrix) of shape (3, 3).\n",
        "# Find the data type (dtype) of the tensors created above.\n",
        "# Convert a numpy array to a TensorFlow tensor.\n",
        "\n",
        "vector = tf.constant([1, 2, 3, 4, 5])\n",
        "vector\n",
        "matrix = tf.constant([[1, 2, 3], [4, 5, 6], [7, 8, 9]])\n",
        "matrix\n",
        "print(scalar.dtype)\n",
        "print(vector.dtype)\n",
        "print(matrix.dtype)\n",
        "numpy_array = np.array([10, 20, 30])\n",
        "tensor_from_numpy = tf.convert_to_tensor(numpy_array)\n",
        "tensor_from_numpy"
      ],
      "metadata": {
        "colab": {
          "base_uri": "https://localhost:8080/"
        },
        "id": "bnHSR0a5Ou2l",
        "outputId": "63034644-dc11-4e72-8172-d9ebbf3fa1ba"
      },
      "id": "bnHSR0a5Ou2l",
      "execution_count": 2,
      "outputs": [
        {
          "output_type": "stream",
          "name": "stdout",
          "text": [
            "<dtype: 'int32'>\n",
            "<dtype: 'int32'>\n",
            "<dtype: 'int32'>\n"
          ]
        },
        {
          "output_type": "execute_result",
          "data": {
            "text/plain": [
              "<tf.Tensor: shape=(3,), dtype=int64, numpy=array([10, 20, 30])>"
            ]
          },
          "metadata": {},
          "execution_count": 2
        }
      ]
    },
    {
      "cell_type": "code",
      "source": [
        "\"\"\"\n",
        "2. Tensor Operations\n",
        "Objective: Perform basic arithmetic operations and learn some advanced operations.\n",
        "\n",
        "Exercises:\n",
        "\n",
        "Add, subtract, multiply, and divide two tensors.\n",
        "Compute the mean and standard deviation of a tensor.\n",
        "\"\"\"\n",
        "\n",
        "tensor1 = tf.constant([1, 2, 3, 4, 5], dtype=tf.float32)\n",
        "tensor2 = tf.constant([6, 7, 8, 9, 10], dtype=tf.float32)\n",
        "\n",
        "print(tensor1 + tensor2)\n",
        "print(tensor1 - tensor2)\n",
        "print(tensor1 * tensor2)\n",
        "print(tensor1 / tensor2)\n",
        "\n",
        "print(tf.reduce_mean(tensor1))\n",
        "print(tf.math.reduce_std(tf.cast(tensor1, dtype=tf.float32)))\n",
        "print(tf.math.reduce_std(tensor1))\n",
        "\n",
        "\n"
      ],
      "metadata": {
        "colab": {
          "base_uri": "https://localhost:8080/"
        },
        "id": "6vazfuIQPTj4",
        "outputId": "34bd420f-9f61-40ab-d7fa-c415b81abeee"
      },
      "id": "6vazfuIQPTj4",
      "execution_count": 14,
      "outputs": [
        {
          "output_type": "stream",
          "name": "stdout",
          "text": [
            "tf.Tensor([ 7.  9. 11. 13. 15.], shape=(5,), dtype=float32)\n",
            "tf.Tensor([-5. -5. -5. -5. -5.], shape=(5,), dtype=float32)\n",
            "tf.Tensor([ 6. 14. 24. 36. 50.], shape=(5,), dtype=float32)\n",
            "tf.Tensor([0.16666667 0.2857143  0.375      0.44444445 0.5       ], shape=(5,), dtype=float32)\n",
            "tf.Tensor(3.0, shape=(), dtype=float32)\n",
            "tf.Tensor(1.4142135, shape=(), dtype=float32)\n",
            "tf.Tensor(1.4142135, shape=(), dtype=float32)\n"
          ]
        }
      ]
    },
    {
      "cell_type": "code",
      "metadata": {
        "colab": {
          "base_uri": "https://localhost:8080/"
        },
        "id": "dcdbefc8",
        "outputId": "5de39c3d-ea58-4782-c98e-692c9e04b3c4"
      },
      "source": [
        "# Apply a non-linear activation function (like ReLU) to a tensor.\n",
        "relu_tensor = tf.constant([-1, 0, 1, 2, -2])\n",
        "relu_output = tf.nn.relu(relu_tensor)\n",
        "print(relu_output)"
      ],
      "id": "dcdbefc8",
      "execution_count": 5,
      "outputs": [
        {
          "output_type": "stream",
          "name": "stdout",
          "text": [
            "tf.Tensor([0 0 1 2 0], shape=(5,), dtype=int32)\n"
          ]
        }
      ]
    },
    {
      "cell_type": "code",
      "metadata": {
        "colab": {
          "base_uri": "https://localhost:8080/"
        },
        "id": "ec2789bc",
        "outputId": "931c2e0d-9be1-427c-be39-c2acd7f8f1b1"
      },
      "source": [
        "# Perform matrix multiplication between two 2-D tensors with dimensions 3x2 and 2x5.\n",
        "matrix_a = tf.constant([[1, 2], [3, 4], [5, 6]]) # Shape (3, 2)\n",
        "matrix_b = tf.constant([[7, 8, 9, 10, 11], [12, 13, 14, 15, 16]]) # Shape (2, 5)\n",
        "\n",
        "matrix_c = tf.matmul(matrix_a, matrix_b)\n",
        "print(matrix_c)"
      ],
      "id": "ec2789bc",
      "execution_count": 7,
      "outputs": [
        {
          "output_type": "stream",
          "name": "stdout",
          "text": [
            "tf.Tensor(\n",
            "[[ 31  34  37  40  43]\n",
            " [ 69  76  83  90  97]\n",
            " [107 118 129 140 151]], shape=(3, 5), dtype=int32)\n"
          ]
        }
      ]
    },
    {
      "cell_type": "code",
      "metadata": {
        "colab": {
          "base_uri": "https://localhost:8080/"
        },
        "id": "4dda5faf",
        "outputId": "2c1e4ec7-a317-4462-8afa-07b8d68e71bd"
      },
      "source": [
        "# Create a tensor of shape (4, 4), then reshape it to (2, 8).\n",
        "tensor_4x4 = tf.constant([[1, 2, 3, 4],\n",
        "                           [5, 6, 7, 8],\n",
        "                           [9, 10, 11, 12],\n",
        "                           [13, 14, 15, 16]])\n",
        "reshaped_tensor = tf.reshape(tensor_4x4, (2, 8))\n",
        "print(\"Original tensor (4x4):\")\n",
        "print(tensor_4x4)\n",
        "print(\"\\nReshaped tensor (2x8):\")\n",
        "print(reshaped_tensor)"
      ],
      "id": "4dda5faf",
      "execution_count": 8,
      "outputs": [
        {
          "output_type": "stream",
          "name": "stdout",
          "text": [
            "Original tensor (4x4):\n",
            "tf.Tensor(\n",
            "[[ 1  2  3  4]\n",
            " [ 5  6  7  8]\n",
            " [ 9 10 11 12]\n",
            " [13 14 15 16]], shape=(4, 4), dtype=int32)\n",
            "\n",
            "Reshaped tensor (2x8):\n",
            "tf.Tensor(\n",
            "[[ 1  2  3  4  5  6  7  8]\n",
            " [ 9 10 11 12 13 14 15 16]], shape=(2, 8), dtype=int32)\n"
          ]
        }
      ]
    },
    {
      "cell_type": "code",
      "metadata": {
        "colab": {
          "base_uri": "https://localhost:8080/"
        },
        "id": "84366797",
        "outputId": "035101f0-d22d-49d6-a809-6df47fb16701"
      },
      "source": [
        "# Transpose a 2-D tensor.\n",
        "tensor_2d = tf.constant([[1, 2, 3],\n",
        "                           [4, 5, 6]])\n",
        "transposed_tensor = tf.transpose(tensor_2d)\n",
        "print(\"Original tensor (2D):\")\n",
        "print(tensor_2d)\n",
        "print(\"\\nTransposed tensor:\")\n",
        "print(transposed_tensor)"
      ],
      "id": "84366797",
      "execution_count": 10,
      "outputs": [
        {
          "output_type": "stream",
          "name": "stdout",
          "text": [
            "Original tensor (2D):\n",
            "tf.Tensor(\n",
            "[[1 2 3]\n",
            " [4 5 6]], shape=(2, 3), dtype=int32)\n",
            "\n",
            "Transposed tensor:\n",
            "tf.Tensor(\n",
            "[[1 4]\n",
            " [2 5]\n",
            " [3 6]], shape=(3, 2), dtype=int32)\n"
          ]
        }
      ]
    },
    {
      "cell_type": "code",
      "metadata": {
        "colab": {
          "base_uri": "https://localhost:8080/"
        },
        "id": "ccd41bf8",
        "outputId": "ef1cba3d-82db-4bf3-9be6-ae364d116923"
      },
      "source": [
        "# Flatten a 3-D tensor to a 1-D tensor.\n",
        "tensor_3d = tf.constant([[[1, 2], [3, 4]], [[5, 6], [7, 8]]])\n",
        "flattened_tensor = tf.reshape(tensor_3d, [-1])\n",
        "print(\"Original tensor (3D):\")\n",
        "print(tensor_3d)\n",
        "print(\"\\nFlattened tensor (1D):\")\n",
        "print(flattened_tensor)"
      ],
      "id": "ccd41bf8",
      "execution_count": 20,
      "outputs": [
        {
          "output_type": "stream",
          "name": "stdout",
          "text": [
            "Original tensor (3D):\n",
            "tf.Tensor(\n",
            "[[[1 2]\n",
            "  [3 4]]\n",
            "\n",
            " [[5 6]\n",
            "  [7 8]]], shape=(2, 2, 2), dtype=int32)\n",
            "\n",
            "Flattened tensor (1D):\n",
            "tf.Tensor([1 2 3 4 5 6 7 8], shape=(8,), dtype=int32)\n"
          ]
        }
      ]
    },
    {
      "cell_type": "code",
      "metadata": {
        "colab": {
          "base_uri": "https://localhost:8080/"
        },
        "id": "13f8b963",
        "outputId": "8fe9a91a-7805-4b83-81ca-18185ed90734"
      },
      "source": [
        "# Extract a specific element from a tensor.\n",
        "tensor = tf.constant([[1, 2, 3], [4, 5, 6], [7, 8, 9]])\n",
        "element = tensor[1, 2] # Access element at row 1, column 2 (0-indexed)\n",
        "print(\"Original tensor:\")\n",
        "print(tensor)\n",
        "print(\"\\nExtracted element (tensor[1, 2]):\")\n",
        "print(element)"
      ],
      "id": "13f8b963",
      "execution_count": 15,
      "outputs": [
        {
          "output_type": "stream",
          "name": "stdout",
          "text": [
            "Original tensor:\n",
            "tf.Tensor(\n",
            "[[1 2 3]\n",
            " [4 5 6]\n",
            " [7 8 9]], shape=(3, 3), dtype=int32)\n",
            "\n",
            "Extracted element (tensor[1, 2]):\n",
            "tf.Tensor(6, shape=(), dtype=int32)\n"
          ]
        }
      ]
    },
    {
      "cell_type": "code",
      "metadata": {
        "colab": {
          "base_uri": "https://localhost:8080/"
        },
        "id": "8ea2d3cb",
        "outputId": "d15f4558-beef-4b22-930f-ec2fc425ec96"
      },
      "source": [
        "# Slice a portion of a tensor.\n",
        "tensor = tf.constant([[1, 2, 3], [4, 5, 6], [7, 8, 9]])\n",
        "sliced_tensor = tensor[:, 1:3] # Slice all rows, columns from index 1 up to (but not including) 3\n",
        "print(\"Original tensor:\")\n",
        "print(tensor)\n",
        "print(\"\\nSliced tensor (tensor[:, 1:3]):\")\n",
        "print(sliced_tensor)"
      ],
      "id": "8ea2d3cb",
      "execution_count": 16,
      "outputs": [
        {
          "output_type": "stream",
          "name": "stdout",
          "text": [
            "Original tensor:\n",
            "tf.Tensor(\n",
            "[[1 2 3]\n",
            " [4 5 6]\n",
            " [7 8 9]], shape=(3, 3), dtype=int32)\n",
            "\n",
            "Sliced tensor (tensor[:, 1:3]):\n",
            "tf.Tensor(\n",
            "[[2 3]\n",
            " [5 6]\n",
            " [8 9]], shape=(3, 2), dtype=int32)\n"
          ]
        }
      ]
    },
    {
      "cell_type": "code",
      "metadata": {
        "colab": {
          "base_uri": "https://localhost:8080/"
        },
        "id": "f88bcc8c",
        "outputId": "14f4047b-78d4-4f7f-82b0-a05675db912c"
      },
      "source": [
        "# Use boolean tensor indexing to filter elements.\n",
        "tensor = tf.constant([10, 20, 30, 40, 50, 60])\n",
        "boolean_mask = tensor > 30 # Create a boolean tensor\n",
        "filtered_tensor = tensor[boolean_mask] # Use the boolean tensor to filter\n",
        "print(\"Original tensor:\")\n",
        "print(tensor)\n",
        "print(\"\\nBoolean mask (tensor > 30):\")\n",
        "print(boolean_mask)\n",
        "print(\"\\nFiltered tensor:\")\n",
        "print(filtered_tensor)"
      ],
      "id": "f88bcc8c",
      "execution_count": 17,
      "outputs": [
        {
          "output_type": "stream",
          "name": "stdout",
          "text": [
            "Original tensor:\n",
            "tf.Tensor([10 20 30 40 50 60], shape=(6,), dtype=int32)\n",
            "\n",
            "Boolean mask (tensor > 30):\n",
            "tf.Tensor([False False False  True  True  True], shape=(6,), dtype=bool)\n",
            "\n",
            "Filtered tensor:\n",
            "tf.Tensor([40 50 60], shape=(3,), dtype=int32)\n"
          ]
        }
      ]
    }
  ],
  "metadata": {
    "colab": {
      "provenance": [],
      "include_colab_link": true
    },
    "language_info": {
      "name": "python"
    },
    "kernelspec": {
      "name": "python3",
      "display_name": "Python 3"
    }
  },
  "nbformat": 4,
  "nbformat_minor": 5
}